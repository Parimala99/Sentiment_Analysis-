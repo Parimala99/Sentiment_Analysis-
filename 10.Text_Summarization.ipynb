{
 "cells": [
  {
   "cell_type": "code",
   "execution_count": 1,
   "metadata": {},
   "outputs": [],
   "source": [
    "from newspaper import Article\n",
    "import nltk"
   ]
  },
  {
   "cell_type": "code",
   "execution_count": 2,
   "metadata": {},
   "outputs": [
    {
     "name": "stderr",
     "output_type": "stream",
     "text": [
      "[nltk_data] Downloading package punkt to\n",
      "[nltk_data]     C:\\Users\\laksh\\AppData\\Roaming\\nltk_data...\n",
      "[nltk_data]   Package punkt is already up-to-date!\n"
     ]
    },
    {
     "data": {
      "text/plain": [
       "True"
      ]
     },
     "execution_count": 2,
     "metadata": {},
     "output_type": "execute_result"
    }
   ],
   "source": [
    "nltk.download('punkt')"
   ]
  },
  {
   "cell_type": "code",
   "execution_count": 3,
   "metadata": {},
   "outputs": [],
   "source": [
    "url= 'https://timesofindia.indiatimes.com/city/amaravati/state-spent-rs-85000-crore-on-agriculture-in-last-two-years/articleshow/82919178.cms'"
   ]
  },
  {
   "cell_type": "code",
   "execution_count": 4,
   "metadata": {},
   "outputs": [],
   "source": [
    "article = Article(url, language=\"en\")"
   ]
  },
  {
   "cell_type": "code",
   "execution_count": 5,
   "metadata": {},
   "outputs": [],
   "source": [
    "article.download() \n",
    "article.parse() \n",
    "article.nlp() "
   ]
  },
  {
   "cell_type": "code",
   "execution_count": 6,
   "metadata": {},
   "outputs": [
    {
     "name": "stdout",
     "output_type": "stream",
     "text": [
      "Article Text:\n",
      "AMARAVATI: The state government has spent close to Rs 85,000 crore on the agriculture sector in the last two years as chief minister YS Jagan Mohan Reddy is firm on providing full support to farmers. Setting up of over 10,000 Rythu Bharosa Kendras (RBKs), a field-level one-stop support centre for farmers, is an initiative of the YSRC government.The state government has so far disbursed Rs 17,030 crore to about 52.38 lakh farmers under YSR Rythu Bharosa – PM Kisan Scheme in the last two years.“Ours is the only government in the country to provide investment assistance to tenant farmers, farmers cultivating endowment, forest and assigned lands under the ‘YSR Rythu Bharosa’ scheme,” said agriculture and marketing minister Kurasala Kannababu.He said that the government has made it a regular feature to deposit first installment of Rs 7,500 in May, second installment of Rs 4,000 in October and another spell of Rs 2,000 in January.The government has already set up 10,778 YSR Rythu Bharosa Kendras (RBKs) across the state to provide services to farmers in their neighbourhood. RBKs will extend support to farmers from seed to crop sale.“Government-certified non-contaminated, quality seeds, quality fertilisers, quality pesticides, e-crop registration, crop insurance, zero interest loans, crop purchasing center services, soil testing, agricultural expert advice, agricultural prices monitoring at the village level, market details and weather forecasts are made available in the RBKs,” said MVS Nagireddy, vice-chairman, Agriculture Mission He said that the government is also taking measures to provide minimum remunerative prices in case farmers do not get MSP. The government is also setting up Janata Bazaars next to these RBKs for farmers to sell their produce. RBKs would also provide training on advanced technologies to fishermen and aqua farmers. The government is also taking measures for supply of quality seed, feed supplements, medicines, nets, other inputs required for livestock, poultry, and fisheries.\n"
     ]
    }
   ],
   "source": [
    "print(\"Article Text:\") \n",
    "print(article.text)"
   ]
  },
  {
   "cell_type": "code",
   "execution_count": 7,
   "metadata": {},
   "outputs": [
    {
     "data": {
      "text/plain": [
       "2027"
      ]
     },
     "execution_count": 7,
     "metadata": {},
     "output_type": "execute_result"
    }
   ],
   "source": [
    "file1=open(\"NewsFile.txt\", \"w+\")\n",
    "file1.write(article.text)\n"
   ]
  },
  {
   "cell_type": "code",
   "execution_count": 15,
   "metadata": {},
   "outputs": [
    {
     "name": "stdout",
     "output_type": "stream",
     "text": [
      "<_io.TextIOWrapper name='NewsFile.txt' mode='w+' encoding='cp1252'>\n"
     ]
    }
   ],
   "source": [
    "print(file1)"
   ]
  },
  {
   "cell_type": "code",
   "execution_count": 8,
   "metadata": {},
   "outputs": [],
   "source": [
    "file1.close()"
   ]
  },
  {
   "cell_type": "code",
   "execution_count": 12,
   "metadata": {},
   "outputs": [],
   "source": [
    "import nltk\n",
    "#nltk.download('stopwords')\n",
    "from nltk.corpus import stopwords\n",
    "from nltk.cluster.util import cosine_distance\n",
    "import numpy as np\n",
    "import networkx as nx\n"
   ]
  },
  {
   "cell_type": "code",
   "execution_count": 21,
   "metadata": {},
   "outputs": [],
   "source": [
    "def read_article(file_name):\n",
    "    file = open(file_name,'r')\n",
    "    filedata = file.readlines()\n",
    "    article = filedata[0].split('. ')\n",
    "    sentences=[]\n",
    "    for sentence in article:\n",
    "        sentences.append(sentence.replace(\"[^a-zA-Z]\",\" \").split(\" \"))\n",
    "    sentences.pop()\n",
    "    return sentences\n",
    "\n",
    "def sentence_similarity(sent1,sent2,stopwords=None):\n",
    "    if stopwords is None:\n",
    "        stopwords = []\n",
    "    sent1 = [w.lower() for w in sent1]\n",
    "    sent2 = [w.lower() for w in sent2]\n",
    "    all_words = list(set(sent1+sent2))\n",
    "    \n",
    "    vector1 = [0] * len(all_words)\n",
    "    vector2= [0] * len(all_words)\n",
    "    for w in sent1:\n",
    "        if w in stopwords:\n",
    "            continue\n",
    "        vector1[all_words.index(w)] += 1\n",
    "        vector2[all_words.index(w)] += 1\n",
    "        \n",
    "    return 1-cosine_distance(vector1,vector2)\n",
    "\n",
    "\n",
    "def gen_sim_matrix(sentences,stop_words):\n",
    "    similarity_matrix = np.zeros((len(sentences),len(sentences)))\n",
    "    for idx1 in range(len(sentences)):\n",
    "        for idx2 in range(len(sentences)):\n",
    "            if idx1 == idx2:\n",
    "                continue\n",
    "            similarity_matrix[idx1][idx2]=sentence_similarity(sentences[idx1],sentences[idx2],stop_words)\n",
    "    return similarity_matrix\n",
    "\n",
    "\n",
    "def generate_summary(file_name,top_n = 5):\n",
    "    stop_words = stopwords.words('english')\n",
    "    summarize_text=[]\n",
    "    sentence = read_article(file_name)\n",
    "    sentence_similarity_matrix = gen_sim_matrix(sentence,stop_words)\n",
    "    sentence_similarity_graph = nx.from_numpy_array(sentence_similarity_matrix)\n",
    "    scores = nx.pagerank(sentence_similarity_graph)\n",
    "    ranked_sentence=sorted(((scores[i],s)for i,s in enumerate(sentence)),reverse=True)\n",
    "    for i in range(top_n):\n",
    "        summarize_text.append(\" \".join(ranked_sentence[i][1]))\n",
    "    print(\"Summary \\n\",\". \".join(summarize_text)) "
   ]
  },
  {
   "cell_type": "code",
   "execution_count": 22,
   "metadata": {},
   "outputs": [
    {
     "name": "stdout",
     "output_type": "stream",
     "text": [
      "Summary \n",
      " Setting up of over 10,000 Rythu Bharosa Kendras (RBKs), a field-level one-stop support centre for farmers, is an initiative of the YSRC government.The state government has so far disbursed Rs 17,030 crore to about 52.38 lakh farmers under YSR Rythu Bharosa – PM Kisan Scheme in the last two years.“Ours is the only government in the country to provide investment assistance to tenant farmers, farmers cultivating endowment, forest and assigned lands under the ‘YSR Rythu Bharosa’ scheme,” said agriculture and marketing minister Kurasala Kannababu.He said that the government has made it a regular feature to deposit first installment of Rs 7,500 in May, second installment of Rs 4,000 in October and another spell of Rs 2,000 in January.The government has already set up 10,778 YSR Rythu Bharosa Kendras (RBKs) across the state to provide services to farmers in their neighbourhood. RBKs will extend support to farmers from seed to crop sale.“Government-certified non-contaminated, quality seeds, quality fertilisers, quality pesticides, e-crop registration, crop insurance, zero interest loans, crop purchasing center services, soil testing, agricultural expert advice, agricultural prices monitoring at the village level, market details and weather forecasts are made available in the RBKs,” said MVS Nagireddy, vice-chairman, Agriculture Mission He said that the government is also taking measures to provide minimum remunerative prices in case farmers do not get MSP\n"
     ]
    }
   ],
   "source": [
    "generate_summary(\"NewsFile.txt\",2)"
   ]
  },
  {
   "cell_type": "code",
   "execution_count": null,
   "metadata": {},
   "outputs": [],
   "source": []
  }
 ],
 "metadata": {
  "kernelspec": {
   "display_name": "Python 3",
   "language": "python",
   "name": "python3"
  },
  "language_info": {
   "codemirror_mode": {
    "name": "ipython",
    "version": 3
   },
   "file_extension": ".py",
   "mimetype": "text/x-python",
   "name": "python",
   "nbconvert_exporter": "python",
   "pygments_lexer": "ipython3",
   "version": "3.8.3"
  }
 },
 "nbformat": 4,
 "nbformat_minor": 4
}
