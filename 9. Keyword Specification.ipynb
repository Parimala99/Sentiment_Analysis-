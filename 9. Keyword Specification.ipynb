{
 "cells": [
  {
   "cell_type": "code",
   "execution_count": 1,
   "metadata": {},
   "outputs": [],
   "source": [
    "from newspaper import Article"
   ]
  },
  {
   "cell_type": "code",
   "execution_count": 3,
   "metadata": {},
   "outputs": [],
   "source": [
    "import nltk\n",
    "from nltk.corpus import stopwords\n",
    "from nltk.tokenize import word_tokenize \n",
    "stop_words = set(stopwords.words('english'))"
   ]
  },
  {
   "cell_type": "code",
   "execution_count": 12,
   "metadata": {},
   "outputs": [],
   "source": [
    "from nltk import tokenize\n",
    "from operator import itemgetter\n",
    "import math"
   ]
  },
  {
   "cell_type": "code",
   "execution_count": 4,
   "metadata": {},
   "outputs": [
    {
     "name": "stderr",
     "output_type": "stream",
     "text": [
      "[nltk_data] Downloading package punkt to\n",
      "[nltk_data]     C:\\Users\\laksh\\AppData\\Roaming\\nltk_data...\n",
      "[nltk_data]   Package punkt is already up-to-date!\n"
     ]
    },
    {
     "data": {
      "text/plain": [
       "True"
      ]
     },
     "execution_count": 4,
     "metadata": {},
     "output_type": "execute_result"
    }
   ],
   "source": [
    "nltk.download('punkt')"
   ]
  },
  {
   "cell_type": "code",
   "execution_count": 6,
   "metadata": {},
   "outputs": [],
   "source": [
    "url= 'https://timesofindia.indiatimes.com/india/federation-of-resident-doctors-association-to-hold-nationwide-protest-on-june-1-over-ramdevs-remarks/articleshow/83066546.cms'"
   ]
  },
  {
   "cell_type": "code",
   "execution_count": 7,
   "metadata": {},
   "outputs": [],
   "source": [
    "article = Article(url, language=\"en\")"
   ]
  },
  {
   "cell_type": "code",
   "execution_count": 8,
   "metadata": {},
   "outputs": [],
   "source": [
    "article.download() \n",
    "article.parse() \n",
    "article.nlp() "
   ]
  },
  {
   "cell_type": "code",
   "execution_count": 9,
   "metadata": {},
   "outputs": [
    {
     "name": "stdout",
     "output_type": "stream",
     "text": [
      "Even after raising objections to statements by Mr. Ram Kishan Yadav (#RamdevBaba), no action has been taken yet. We… https://t.co/OverbsSuqd — FORDA INDIA (@FordaIndia) 1622290939000\n",
      "\n",
      "(With agency inputs)\n",
      "\n",
      "NEW DELHI: The Federation of resident doctors' association (FORDA) will hold a nationwide protest on June 1 over Ramdev 's remarks on allopathy.In a press statement, the federation said the supreme sacrifice of health care workers, police personnel and others during the Covid pandemic is being subjected to \"insensitive, inhuman and insulting statements\" from Mr Ram Kishan Yadav alias Ramdev Baba The federation also said Ramdev's comments could lead to vaccine hesitancy among people. An undated video in which Ramdev claims that lakhs of doctors have died despite taking both doses of Covid-19 vaccines had gone viral on social media.The remarks were criticised widely and Union health minister Harsh Vardhan had asked him to withdraw the \"extremely unfortunate\" statement.Ramdev withdrew his statement but it was followed by the yoga guru posing 25 questions to the Indian Medical Association IMA ) in an 'open letter' on his Twitter handle, asking if allopathy offered permanent relief for ailments.Expressing dismay at no action being taken against Ramdev, the federation said it will hold a nationwide black day protest on June 1,\"without hampering the patient care\" to voice its protest against the \"illogical, unscientific, demeaning and derogatory statements of Mr Ram Kishan Yadav\" against Corona warriors and modern medicine.The medical body has demanded a public, unconditional public apology from Ramdev.The Yoga guru should be charged under relevant sections of the Epidemic Diseases Act , 1897 if he fails to apologise for his statement, said the federation.\"We once again emphasize that modern medicine is never against any form of medicine including Ayurveda but against insensitive statements of Mr Ram Yadav,\" said the body.\n"
     ]
    }
   ],
   "source": [
    "doc = article.text\n",
    "print(doc)"
   ]
  },
  {
   "cell_type": "code",
   "execution_count": 10,
   "metadata": {},
   "outputs": [
    {
     "name": "stdout",
     "output_type": "stream",
     "text": [
      "296\n"
     ]
    }
   ],
   "source": [
    "total_words = doc.split()\n",
    "total_word_length = len(total_words)\n",
    "print(total_word_length)"
   ]
  },
  {
   "cell_type": "code",
   "execution_count": 13,
   "metadata": {},
   "outputs": [
    {
     "name": "stdout",
     "output_type": "stream",
     "text": [
      "4\n"
     ]
    }
   ],
   "source": [
    "total_sentences = tokenize.sent_tokenize(doc)\n",
    "total_sent_len = len(total_sentences)\n",
    "print(total_sent_len)\n",
    "\n"
   ]
  },
  {
   "cell_type": "code",
   "execution_count": 14,
   "metadata": {},
   "outputs": [
    {
     "name": "stdout",
     "output_type": "stream",
     "text": [
      "{'Even': 0.0033783783783783786, 'raising': 0.0033783783783783786, 'objections': 0.0033783783783783786, 'statements': 0.010135135135135136, 'Mr': 0.013513513513513514, 'Ram': 0.013513513513513514, 'Kishan': 0.010135135135135136, 'Yadav': 0.006756756756756757, '(#RamdevBaba),': 0.0033783783783783786, 'action': 0.006756756756756757, 'taken': 0.006756756756756757, 'yet': 0.0033783783783783786, 'We…': 0.0033783783783783786, 'https://tco/OverbsSuqd': 0.0033783783783783786, '—': 0.0033783783783783786, 'FORDA': 0.0033783783783783786, 'INDIA': 0.0033783783783783786, '(@FordaIndia)': 0.0033783783783783786, '1622290939000': 0.0033783783783783786, '(With': 0.0033783783783783786, 'agency': 0.0033783783783783786, 'inputs)': 0.0033783783783783786, 'NEW': 0.0033783783783783786, 'DELHI:': 0.0033783783783783786, 'The': 0.006756756756756757, 'Federation': 0.0033783783783783786, 'resident': 0.0033783783783783786, \"doctors'\": 0.0033783783783783786, 'association': 0.0033783783783783786, '(FORDA)': 0.0033783783783783786, 'hold': 0.006756756756756757, 'nationwide': 0.006756756756756757, 'protest': 0.010135135135135136, 'June': 0.006756756756756757, '1': 0.0033783783783783786, 'Ramdev': 0.010135135135135136, \"'s\": 0.0033783783783783786, 'remarks': 0.006756756756756757, 'allopathyIn': 0.0033783783783783786, 'press': 0.0033783783783783786, 'statement,': 0.006756756756756757, 'federation': 0.010135135135135136, 'said': 0.016891891891891893, 'supreme': 0.0033783783783783786, 'sacrifice': 0.0033783783783783786, 'health': 0.006756756756756757, 'care': 0.0033783783783783786, 'workers,': 0.0033783783783783786, 'police': 0.0033783783783783786, 'personnel': 0.0033783783783783786, 'others': 0.0033783783783783786, 'Covid': 0.0033783783783783786, 'pandemic': 0.0033783783783783786, 'subjected': 0.0033783783783783786, '\"insensitive,': 0.0033783783783783786, 'inhuman': 0.0033783783783783786, 'insulting': 0.0033783783783783786, 'statements\"': 0.0033783783783783786, 'alias': 0.0033783783783783786, 'Baba': 0.0033783783783783786, 'also': 0.0033783783783783786, \"Ramdev's\": 0.0033783783783783786, 'comments': 0.0033783783783783786, 'could': 0.0033783783783783786, 'lead': 0.0033783783783783786, 'vaccine': 0.0033783783783783786, 'hesitancy': 0.0033783783783783786, 'among': 0.0033783783783783786, 'people': 0.0033783783783783786, 'An': 0.0033783783783783786, 'undated': 0.0033783783783783786, 'video': 0.0033783783783783786, 'claims': 0.0033783783783783786, 'lakhs': 0.0033783783783783786, 'doctors': 0.0033783783783783786, 'died': 0.0033783783783783786, 'despite': 0.0033783783783783786, 'taking': 0.0033783783783783786, 'doses': 0.0033783783783783786, 'Covid-19': 0.0033783783783783786, 'vaccines': 0.0033783783783783786, 'gone': 0.0033783783783783786, 'viral': 0.0033783783783783786, 'social': 0.0033783783783783786, 'mediaThe': 0.0033783783783783786, 'criticised': 0.0033783783783783786, 'widely': 0.0033783783783783786, 'Union': 0.0033783783783783786, 'minister': 0.0033783783783783786, 'Harsh': 0.0033783783783783786, 'Vardhan': 0.0033783783783783786, 'asked': 0.0033783783783783786, 'withdraw': 0.0033783783783783786, '\"extremely': 0.0033783783783783786, 'unfortunate\"': 0.0033783783783783786, 'statementRamdev': 0.0033783783783783786, 'withdrew': 0.0033783783783783786, 'statement': 0.0033783783783783786, 'followed': 0.0033783783783783786, 'yoga': 0.0033783783783783786, 'guru': 0.006756756756756757, 'posing': 0.0033783783783783786, '25': 0.0033783783783783786, 'questions': 0.0033783783783783786, 'Indian': 0.0033783783783783786, 'Medical': 0.0033783783783783786, 'Association': 0.0033783783783783786, 'IMA': 0.0033783783783783786, ')': 0.0033783783783783786, \"'open\": 0.0033783783783783786, \"letter'\": 0.0033783783783783786, 'Twitter': 0.0033783783783783786, 'handle,': 0.0033783783783783786, 'asking': 0.0033783783783783786, 'allopathy': 0.0033783783783783786, 'offered': 0.0033783783783783786, 'permanent': 0.0033783783783783786, 'relief': 0.0033783783783783786, 'ailmentsExpressing': 0.0033783783783783786, 'dismay': 0.0033783783783783786, 'Ramdev,': 0.0033783783783783786, 'black': 0.0033783783783783786, 'day': 0.0033783783783783786, '1,\"without': 0.0033783783783783786, 'hampering': 0.0033783783783783786, 'patient': 0.0033783783783783786, 'care\"': 0.0033783783783783786, 'voice': 0.0033783783783783786, '\"illogical,': 0.0033783783783783786, 'unscientific,': 0.0033783783783783786, 'demeaning': 0.0033783783783783786, 'derogatory': 0.0033783783783783786, 'Yadav\"': 0.0033783783783783786, 'Corona': 0.0033783783783783786, 'warriors': 0.0033783783783783786, 'modern': 0.006756756756756757, 'medicineThe': 0.0033783783783783786, 'medical': 0.0033783783783783786, 'body': 0.006756756756756757, 'demanded': 0.0033783783783783786, 'public,': 0.0033783783783783786, 'unconditional': 0.0033783783783783786, 'public': 0.0033783783783783786, 'apology': 0.0033783783783783786, 'RamdevThe': 0.0033783783783783786, 'Yoga': 0.0033783783783783786, 'charged': 0.0033783783783783786, 'relevant': 0.0033783783783783786, 'sections': 0.0033783783783783786, 'Epidemic': 0.0033783783783783786, 'Diseases': 0.0033783783783783786, 'Act': 0.0033783783783783786, ',': 0.0033783783783783786, '1897': 0.0033783783783783786, 'fails': 0.0033783783783783786, 'apologise': 0.0033783783783783786, 'federation\"We': 0.0033783783783783786, 'emphasize': 0.0033783783783783786, 'medicine': 0.006756756756756757, 'never': 0.0033783783783783786, 'form': 0.0033783783783783786, 'including': 0.0033783783783783786, 'Ayurveda': 0.0033783783783783786, 'insensitive': 0.0033783783783783786, 'Yadav,\"': 0.0033783783783783786}\n"
     ]
    }
   ],
   "source": [
    "tf_score = {}\n",
    "for each_word in total_words:\n",
    "    each_word = each_word.replace('.','')\n",
    "    if each_word not in stop_words:\n",
    "        if each_word in tf_score:\n",
    "            tf_score[each_word] += 1\n",
    "        else:\n",
    "            tf_score[each_word] = 1\n",
    "\n",
    "# Dividing by total_word_length for each dictionary element\n",
    "tf_score.update((x, y/int(total_word_length)) for x, y in tf_score.items())\n",
    "print(tf_score)"
   ]
  },
  {
   "cell_type": "code",
   "execution_count": 15,
   "metadata": {},
   "outputs": [],
   "source": [
    "def check_sent(word, sentences): \n",
    "    final = [all([w in x for w in word]) for x in sentences] \n",
    "    sent_len = [sentences[i] for i in range(0, len(final)) if final[i]]\n",
    "    return int(len(sent_len))"
   ]
  },
  {
   "cell_type": "code",
   "execution_count": 16,
   "metadata": {},
   "outputs": [],
   "source": [
    "idf_score = {}\n",
    "for each_word in total_words:\n",
    "    each_word = each_word.replace('.','')\n",
    "    if each_word not in stop_words:\n",
    "        if each_word in idf_score:\n",
    "            idf_score[each_word] = check_sent(each_word, total_sentences)\n",
    "        else:\n",
    "            idf_score[each_word] = 1\n",
    "\n",
    "# Performing a log and divide\n",
    "idf_score.update((x, math.log(int(total_sent_len)/y)) for x, y in idf_score.items())"
   ]
  },
  {
   "cell_type": "code",
   "execution_count": 17,
   "metadata": {},
   "outputs": [
    {
     "name": "stdout",
     "output_type": "stream",
     "text": [
      "{'Even': 1.3862943611198906, 'raising': 1.3862943611198906, 'objections': 1.3862943611198906, 'statements': 0.0, 'Mr': 0.0, 'Ram': 0.0, 'Kishan': 0.28768207245178085, 'Yadav': 0.0, '(#RamdevBaba),': 1.3862943611198906, 'action': 0.0, 'taken': 0.28768207245178085, 'yet': 1.3862943611198906, 'We…': 1.3862943611198906, 'https://tco/OverbsSuqd': 1.3862943611198906, '—': 1.3862943611198906, 'FORDA': 1.3862943611198906, 'INDIA': 1.3862943611198906, '(@FordaIndia)': 1.3862943611198906, '1622290939000': 1.3862943611198906, '(With': 1.3862943611198906, 'agency': 1.3862943611198906, 'inputs)': 1.3862943611198906, 'NEW': 1.3862943611198906, 'DELHI:': 1.3862943611198906, 'The': 0.6931471805599453, 'Federation': 1.3862943611198906, 'resident': 1.3862943611198906, \"doctors'\": 1.3862943611198906, 'association': 1.3862943611198906, '(FORDA)': 1.3862943611198906, 'hold': 0.28768207245178085, 'nationwide': 0.6931471805599453, 'protest': 0.28768207245178085, 'June': 0.6931471805599453, '1': 1.3862943611198906, 'Ramdev': 0.0, \"'s\": 1.3862943611198906, 'remarks': 0.28768207245178085, 'allopathyIn': 1.3862943611198906, 'press': 1.3862943611198906, 'statement,': 0.0, 'federation': 0.0, 'said': 0.0, 'supreme': 1.3862943611198906, 'sacrifice': 1.3862943611198906, 'health': 0.28768207245178085, 'care': 1.3862943611198906, 'workers,': 1.3862943611198906, 'police': 1.3862943611198906, 'personnel': 1.3862943611198906, 'others': 1.3862943611198906, 'Covid': 1.3862943611198906, 'pandemic': 1.3862943611198906, 'subjected': 1.3862943611198906, '\"insensitive,': 1.3862943611198906, 'inhuman': 1.3862943611198906, 'insulting': 1.3862943611198906, 'statements\"': 1.3862943611198906, 'alias': 1.3862943611198906, 'Baba': 1.3862943611198906, 'also': 1.3862943611198906, \"Ramdev's\": 1.3862943611198906, 'comments': 1.3862943611198906, 'could': 1.3862943611198906, 'lead': 1.3862943611198906, 'vaccine': 1.3862943611198906, 'hesitancy': 1.3862943611198906, 'among': 1.3862943611198906, 'people': 1.3862943611198906, 'An': 1.3862943611198906, 'undated': 1.3862943611198906, 'video': 1.3862943611198906, 'claims': 1.3862943611198906, 'lakhs': 1.3862943611198906, 'doctors': 1.3862943611198906, 'died': 1.3862943611198906, 'despite': 1.3862943611198906, 'taking': 1.3862943611198906, 'doses': 1.3862943611198906, 'Covid-19': 1.3862943611198906, 'vaccines': 1.3862943611198906, 'gone': 1.3862943611198906, 'viral': 1.3862943611198906, 'social': 1.3862943611198906, 'mediaThe': 1.3862943611198906, 'criticised': 1.3862943611198906, 'widely': 1.3862943611198906, 'Union': 1.3862943611198906, 'minister': 1.3862943611198906, 'Harsh': 1.3862943611198906, 'Vardhan': 1.3862943611198906, 'asked': 1.3862943611198906, 'withdraw': 1.3862943611198906, '\"extremely': 1.3862943611198906, 'unfortunate\"': 1.3862943611198906, 'statementRamdev': 1.3862943611198906, 'withdrew': 1.3862943611198906, 'statement': 1.3862943611198906, 'followed': 1.3862943611198906, 'yoga': 1.3862943611198906, 'guru': 0.28768207245178085, 'posing': 1.3862943611198906, '25': 1.3862943611198906, 'questions': 1.3862943611198906, 'Indian': 1.3862943611198906, 'Medical': 1.3862943611198906, 'Association': 1.3862943611198906, 'IMA': 1.3862943611198906, ')': 1.3862943611198906, \"'open\": 1.3862943611198906, \"letter'\": 1.3862943611198906, 'Twitter': 1.3862943611198906, 'handle,': 1.3862943611198906, 'asking': 1.3862943611198906, 'allopathy': 1.3862943611198906, 'offered': 1.3862943611198906, 'permanent': 1.3862943611198906, 'relief': 1.3862943611198906, 'ailmentsExpressing': 1.3862943611198906, 'dismay': 1.3862943611198906, 'Ramdev,': 1.3862943611198906, 'black': 1.3862943611198906, 'day': 1.3862943611198906, '1,\"without': 1.3862943611198906, 'hampering': 1.3862943611198906, 'patient': 1.3862943611198906, 'care\"': 1.3862943611198906, 'voice': 1.3862943611198906, '\"illogical,': 1.3862943611198906, 'unscientific,': 1.3862943611198906, 'demeaning': 1.3862943611198906, 'derogatory': 1.3862943611198906, 'Yadav\"': 1.3862943611198906, 'Corona': 1.3862943611198906, 'warriors': 1.3862943611198906, 'modern': 0.0, 'medicineThe': 1.3862943611198906, 'medical': 1.3862943611198906, 'body': 0.0, 'demanded': 1.3862943611198906, 'public,': 1.3862943611198906, 'unconditional': 1.3862943611198906, 'public': 1.3862943611198906, 'apology': 1.3862943611198906, 'RamdevThe': 1.3862943611198906, 'Yoga': 1.3862943611198906, 'charged': 1.3862943611198906, 'relevant': 1.3862943611198906, 'sections': 1.3862943611198906, 'Epidemic': 1.3862943611198906, 'Diseases': 1.3862943611198906, 'Act': 1.3862943611198906, ',': 1.3862943611198906, '1897': 1.3862943611198906, 'fails': 1.3862943611198906, 'apologise': 1.3862943611198906, 'federation\"We': 1.3862943611198906, 'emphasize': 1.3862943611198906, 'medicine': 0.0, 'never': 1.3862943611198906, 'form': 1.3862943611198906, 'including': 1.3862943611198906, 'Ayurveda': 1.3862943611198906, 'insensitive': 1.3862943611198906, 'Yadav,\"': 1.3862943611198906}\n"
     ]
    }
   ],
   "source": [
    "print(idf_score)"
   ]
  },
  {
   "cell_type": "code",
   "execution_count": 18,
   "metadata": {},
   "outputs": [
    {
     "name": "stdout",
     "output_type": "stream",
     "text": [
      "{'Even': 0.004683426895675307, 'raising': 0.004683426895675307, 'objections': 0.004683426895675307, 'statements': 0.0, 'Mr': 0.0, 'Ram': 0.0, 'Kishan': 0.0029156966802545356, 'Yadav': 0.0, '(#RamdevBaba),': 0.004683426895675307, 'action': 0.0, 'taken': 0.001943797786836357, 'yet': 0.004683426895675307, 'We…': 0.004683426895675307, 'https://tco/OverbsSuqd': 0.004683426895675307, '—': 0.004683426895675307, 'FORDA': 0.004683426895675307, 'INDIA': 0.004683426895675307, '(@FordaIndia)': 0.004683426895675307, '1622290939000': 0.004683426895675307, '(With': 0.004683426895675307, 'agency': 0.004683426895675307, 'inputs)': 0.004683426895675307, 'NEW': 0.004683426895675307, 'DELHI:': 0.004683426895675307, 'The': 0.004683426895675307, 'Federation': 0.004683426895675307, 'resident': 0.004683426895675307, \"doctors'\": 0.004683426895675307, 'association': 0.004683426895675307, '(FORDA)': 0.004683426895675307, 'hold': 0.001943797786836357, 'nationwide': 0.004683426895675307, 'protest': 0.0029156966802545356, 'June': 0.004683426895675307, '1': 0.004683426895675307, 'Ramdev': 0.0, \"'s\": 0.004683426895675307, 'remarks': 0.001943797786836357, 'allopathyIn': 0.004683426895675307, 'press': 0.004683426895675307, 'statement,': 0.0, 'federation': 0.0, 'said': 0.0, 'supreme': 0.004683426895675307, 'sacrifice': 0.004683426895675307, 'health': 0.001943797786836357, 'care': 0.004683426895675307, 'workers,': 0.004683426895675307, 'police': 0.004683426895675307, 'personnel': 0.004683426895675307, 'others': 0.004683426895675307, 'Covid': 0.004683426895675307, 'pandemic': 0.004683426895675307, 'subjected': 0.004683426895675307, '\"insensitive,': 0.004683426895675307, 'inhuman': 0.004683426895675307, 'insulting': 0.004683426895675307, 'statements\"': 0.004683426895675307, 'alias': 0.004683426895675307, 'Baba': 0.004683426895675307, 'also': 0.004683426895675307, \"Ramdev's\": 0.004683426895675307, 'comments': 0.004683426895675307, 'could': 0.004683426895675307, 'lead': 0.004683426895675307, 'vaccine': 0.004683426895675307, 'hesitancy': 0.004683426895675307, 'among': 0.004683426895675307, 'people': 0.004683426895675307, 'An': 0.004683426895675307, 'undated': 0.004683426895675307, 'video': 0.004683426895675307, 'claims': 0.004683426895675307, 'lakhs': 0.004683426895675307, 'doctors': 0.004683426895675307, 'died': 0.004683426895675307, 'despite': 0.004683426895675307, 'taking': 0.004683426895675307, 'doses': 0.004683426895675307, 'Covid-19': 0.004683426895675307, 'vaccines': 0.004683426895675307, 'gone': 0.004683426895675307, 'viral': 0.004683426895675307, 'social': 0.004683426895675307, 'mediaThe': 0.004683426895675307, 'criticised': 0.004683426895675307, 'widely': 0.004683426895675307, 'Union': 0.004683426895675307, 'minister': 0.004683426895675307, 'Harsh': 0.004683426895675307, 'Vardhan': 0.004683426895675307, 'asked': 0.004683426895675307, 'withdraw': 0.004683426895675307, '\"extremely': 0.004683426895675307, 'unfortunate\"': 0.004683426895675307, 'statementRamdev': 0.004683426895675307, 'withdrew': 0.004683426895675307, 'statement': 0.004683426895675307, 'followed': 0.004683426895675307, 'yoga': 0.004683426895675307, 'guru': 0.001943797786836357, 'posing': 0.004683426895675307, '25': 0.004683426895675307, 'questions': 0.004683426895675307, 'Indian': 0.004683426895675307, 'Medical': 0.004683426895675307, 'Association': 0.004683426895675307, 'IMA': 0.004683426895675307, ')': 0.004683426895675307, \"'open\": 0.004683426895675307, \"letter'\": 0.004683426895675307, 'Twitter': 0.004683426895675307, 'handle,': 0.004683426895675307, 'asking': 0.004683426895675307, 'allopathy': 0.004683426895675307, 'offered': 0.004683426895675307, 'permanent': 0.004683426895675307, 'relief': 0.004683426895675307, 'ailmentsExpressing': 0.004683426895675307, 'dismay': 0.004683426895675307, 'Ramdev,': 0.004683426895675307, 'black': 0.004683426895675307, 'day': 0.004683426895675307, '1,\"without': 0.004683426895675307, 'hampering': 0.004683426895675307, 'patient': 0.004683426895675307, 'care\"': 0.004683426895675307, 'voice': 0.004683426895675307, '\"illogical,': 0.004683426895675307, 'unscientific,': 0.004683426895675307, 'demeaning': 0.004683426895675307, 'derogatory': 0.004683426895675307, 'Yadav\"': 0.004683426895675307, 'Corona': 0.004683426895675307, 'warriors': 0.004683426895675307, 'modern': 0.0, 'medicineThe': 0.004683426895675307, 'medical': 0.004683426895675307, 'body': 0.0, 'demanded': 0.004683426895675307, 'public,': 0.004683426895675307, 'unconditional': 0.004683426895675307, 'public': 0.004683426895675307, 'apology': 0.004683426895675307, 'RamdevThe': 0.004683426895675307, 'Yoga': 0.004683426895675307, 'charged': 0.004683426895675307, 'relevant': 0.004683426895675307, 'sections': 0.004683426895675307, 'Epidemic': 0.004683426895675307, 'Diseases': 0.004683426895675307, 'Act': 0.004683426895675307, ',': 0.004683426895675307, '1897': 0.004683426895675307, 'fails': 0.004683426895675307, 'apologise': 0.004683426895675307, 'federation\"We': 0.004683426895675307, 'emphasize': 0.004683426895675307, 'medicine': 0.0, 'never': 0.004683426895675307, 'form': 0.004683426895675307, 'including': 0.004683426895675307, 'Ayurveda': 0.004683426895675307, 'insensitive': 0.004683426895675307, 'Yadav,\"': 0.004683426895675307}\n"
     ]
    }
   ],
   "source": [
    "tf_idf_score = {key: tf_score[key] * idf_score.get(key, 0) for key in tf_score.keys()}\n",
    "print(tf_idf_score)"
   ]
  },
  {
   "cell_type": "code",
   "execution_count": 19,
   "metadata": {},
   "outputs": [],
   "source": [
    "def get_top_n(dict_elem, n):\n",
    "    result = dict(sorted(dict_elem.items(), key = itemgetter(1), reverse = True)[:n]) \n",
    "    return result"
   ]
  },
  {
   "cell_type": "code",
   "execution_count": 20,
   "metadata": {},
   "outputs": [
    {
     "name": "stdout",
     "output_type": "stream",
     "text": [
      "{'Even': 0.004683426895675307, 'raising': 0.004683426895675307, 'objections': 0.004683426895675307, '(#RamdevBaba),': 0.004683426895675307, 'yet': 0.004683426895675307}\n"
     ]
    }
   ],
   "source": [
    "print(get_top_n(tf_idf_score, 5))"
   ]
  }
 ],
 "metadata": {
  "kernelspec": {
   "display_name": "Python 3",
   "language": "python",
   "name": "python3"
  },
  "language_info": {
   "codemirror_mode": {
    "name": "ipython",
    "version": 3
   },
   "file_extension": ".py",
   "mimetype": "text/x-python",
   "name": "python",
   "nbconvert_exporter": "python",
   "pygments_lexer": "ipython3",
   "version": "3.8.3"
  }
 },
 "nbformat": 4,
 "nbformat_minor": 4
}
